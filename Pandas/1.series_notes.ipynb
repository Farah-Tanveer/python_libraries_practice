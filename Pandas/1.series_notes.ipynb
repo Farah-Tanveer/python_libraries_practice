{
 "cells": [
  {
   "cell_type": "markdown",
   "id": "1d812697",
   "metadata": {},
   "source": [
    "# 📊 Pandas Series Tutorial\n",
    "Welcome! This notebook is a **mini-course on Pandas Series**, designed to give both theoretical understanding and hands-on practice.\n",
    "\n",
    "---"
   ]
  },
  {
   "cell_type": "markdown",
   "id": "9fe39a8a",
   "metadata": {},
   "source": [
    "## 1️⃣ What is a Pandas Series?\n",
    "- A **Series** is a one-dimensional labeled array in Pandas.\n",
    "- It can hold data of any type: integers, floats, strings, objects, etc.\n",
    "- Think of it as a **column in Excel** or a **dictionary mapping indexes to values**.\n",
    "\n",
    "### Structure of a Series\n",
    "```\n",
    "Index  →  Value\n",
    "0      →  10\n",
    "1      →  20\n",
    "2      →  30\n",
    "```\n"
   ]
  },
  {
   "cell_type": "markdown",
   "id": "1f4fc7a2",
   "metadata": {},
   "source": [
    "### Diagram\n",
    "Series can be visualized like this:\n",
    "\n",
    "| Index | Value |\n",
    "|-------|-------|\n",
    "|   0   |   10  |\n",
    "|   1   |   20  |\n",
    "|   2   |   30  |\n"
   ]
  },
  {
   "cell_type": "markdown",
   "id": "7b22e752",
   "metadata": {},
   "source": [
    "## 2️⃣ Creating a Series\n",
    "We can create a Series in multiple ways:"
   ]
  },
  {
   "cell_type": "code",
   "execution_count": null,
   "id": "08ec4cfa",
   "metadata": {},
   "outputs": [],
   "source": [
    "import pandas as pd\n",
    "\n",
    "# From a list\n",
    "s1 = pd.Series([10, 20, 30, 40])\n",
    "print('Series from list:\\n', s1)\n",
    "\n",
    "# From a dictionary\n",
    "s2 = pd.Series({'a': 100, 'b': 200, 'c': 300})\n",
    "print('\\nSeries from dictionary:\\n', s2)\n",
    "\n",
    "# From numpy array\n",
    "import numpy as np\n",
    "arr = np.array([5, 10, 15, 20])\n",
    "s3 = pd.Series(arr, index=['x','y','z','w'])\n",
    "print('\\nSeries from NumPy array:\\n', s3)"
   ]
  },
  {
   "cell_type": "markdown",
   "id": "ffc7fc13",
   "metadata": {},
   "source": [
    "## 3️⃣ Indexing and Slicing in Series\n",
    "- Works similar to NumPy arrays but more powerful because of labels.\n",
    "- You can access elements using **position** or **labels**."
   ]
  },
  {
   "cell_type": "code",
   "execution_count": null,
   "id": "a0ef27f2",
   "metadata": {},
   "outputs": [],
   "source": [
    "s = pd.Series([100, 200, 300, 400], index=['a','b','c','d'])\n",
    "\n",
    "# Access by position\n",
    "print('First element (position):', s[0])\n",
    "\n",
    "# Access by label\n",
    "print('Element with label c:', s['c'])\n",
    "\n",
    "# Slicing by position\n",
    "print('\\nSlice [0:2]:\\n', s[0:2])\n",
    "\n",
    "# Slicing by labels\n",
    "print('\\nSlice using labels (a to c):\\n', s['a':'c'])"
   ]
  },
  {
   "cell_type": "markdown",
   "id": "258c613b",
   "metadata": {},
   "source": [
    "## 4️⃣ Operations on Series\n",
    "- Supports vectorized operations (like NumPy).\n",
    "- Operations are aligned on index."
   ]
  },
  {
   "cell_type": "code",
   "execution_count": null,
   "id": "2ddfdff9",
   "metadata": {},
   "outputs": [],
   "source": [
    "s = pd.Series([1,2,3,4], index=['a','b','c','d'])\n",
    "print('Original Series:\\n', s)\n",
    "\n",
    "# Arithmetic\n",
    "print('\\nMultiply by 2:\\n', s * 2)\n",
    "\n",
    "# Add another Series\n",
    "s2 = pd.Series([10,20,30,40], index=['a','b','c','d'])\n",
    "print('\\nAddition with another Series:\\n', s + s2)\n",
    "\n",
    "# Apply functions\n",
    "print('\\nSquare root of elements:\\n', np.sqrt(s))"
   ]
  },
  {
   "cell_type": "markdown",
   "id": "bf5910f1",
   "metadata": {},
   "source": [
    "## 5️⃣ Handling Missing Data in Series\n",
    "Pandas provides tools to handle `NaN` values."
   ]
  },
  {
   "cell_type": "code",
   "execution_count": null,
   "id": "37fe8780",
   "metadata": {},
   "outputs": [],
   "source": [
    "s = pd.Series([1, 2, np.nan, 4, 5])\n",
    "print('Series with NaN:\\n', s)\n",
    "\n",
    "# Check for null values\n",
    "print('\\nIs null?\\n', s.isnull())\n",
    "\n",
    "# Fill missing values\n",
    "print('\\nFill NaN with 0:\\n', s.fillna(0))\n",
    "\n",
    "# Drop missing values\n",
    "print('\\nDrop NaN:\\n', s.dropna())"
   ]
  },
  {
   "cell_type": "markdown",
   "id": "123f726c",
   "metadata": {},
   "source": [
    "## 6️⃣ Hands-on Exercises ✍️\n",
    "Try solving these to test your understanding:\n",
    "\n",
    "1. Create a Series of your favorite numbers with custom labels.\n",
    "2. Create a Series from a dictionary mapping city → population.\n",
    "3. Slice a Series to get the first 3 elements.\n",
    "4. Add two Series together with some overlapping and missing labels.\n",
    "5. Handle missing data by filling with the mean.\n",
    "\n",
    "---\n",
    "✅ Congratulations! You now understand the basics of **Pandas Series**."
   ]
  }
 ],
 "metadata": {},
 "nbformat": 4,
 "nbformat_minor": 5
}
