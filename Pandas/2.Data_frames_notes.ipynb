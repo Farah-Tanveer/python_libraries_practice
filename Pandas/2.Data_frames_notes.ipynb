{
 "cells": [
  {
   "cell_type": "markdown",
   "id": "fd721ba9",
   "metadata": {},
   "source": [
    "# 🐼 Pandas DataFrames Tutorial\n",
    "This notebook is a **comprehensive guide to Pandas DataFrames**, including:\n",
    "- Theory and definitions\n",
    "- Visual diagrams for better understanding\n",
    "- Corrected and working code examples\n",
    "- Exercises for practice\n",
    "\n",
    "---"
   ]
  },
  {
   "cell_type": "markdown",
   "id": "115ffc59",
   "metadata": {},
   "source": [
    "## 1️⃣ What is a DataFrame?\n",
    "- A **DataFrame** is a 2D labeled data structure in Pandas.\n",
    "- It looks like a **table with rows and columns** (like Excel or SQL tables).\n",
    "- Each column in a DataFrame is actually a **Series**.\n",
    "\n",
    "### Structure\n",
    "```\n",
    "   Name   Age   City    Salary\n",
    "0  John    26   NY      56000\n",
    "1  Anna    34   Paris   79000\n",
    "2  Linda   29   London  65000\n",
    "3  Peter   42   Berlin  85000\n",
    "```\n"
   ]
  },
  {
   "cell_type": "markdown",
   "id": "727d5844",
   "metadata": {},
   "source": [
    "### Diagram\n",
    "```\n",
    "DataFrame = { column name → Series }\n",
    "\n",
    "Columns:   Name   | Age | City  | Salary\n",
    "Index → 0: John   | 26  | NY    | 56000\n",
    "Index → 1: Anna   | 34  | Paris | 79000\n",
    "Index → 2: Linda  | 29  | London| 65000\n",
    "Index → 3: Peter  | 42  | Berlin| 85000\n",
    "```\n"
   ]
  },
  {
   "cell_type": "markdown",
   "id": "bd39829b",
   "metadata": {},
   "source": [
    "## 2️⃣ Creating DataFrames\n",
    "DataFrames can be created in multiple ways:\n",
    "- From lists of lists\n",
    "- From dictionaries\n",
    "- From NumPy arrays"
   ]
  },
  {
   "cell_type": "code",
   "execution_count": null,
   "id": "4de656dc",
   "metadata": {},
   "outputs": [],
   "source": [
    "import pandas as pd\n",
    "\n",
    "# From a list of lists\n",
    "data_list = [\n",
    "    ['John', 26, 'New York', 56000],\n",
    "    ['Anna', 34, 'Paris', 79000],\n",
    "    ['Linda', 29, 'London', 65000],\n",
    "    ['Peter', 42, 'Berlin', 85000]\n",
    "]\n",
    "\n",
    "columns = ['Name','Age','City','Salary']\n",
    "df = pd.DataFrame(data_list, columns=columns)\n",
    "print(df)"
   ]
  },
  {
   "cell_type": "code",
   "execution_count": null,
   "id": "9ae34172",
   "metadata": {},
   "outputs": [],
   "source": [
    "# From dictionary\n",
    "data_dict = {\n",
    "    'Name': ['John','Anna','Linda','Peter'],\n",
    "    'Age': [26,34,29,42],\n",
    "    'City': ['New York','Paris','London','Berlin'],\n",
    "    'Salary': [56000,79000,65000,85000]\n",
    "}\n",
    "\n",
    "pd.DataFrame(data_dict)"
   ]
  },
  {
   "cell_type": "markdown",
   "id": "ad3409af",
   "metadata": {},
   "source": [
    "## 3️⃣ Accessing Data\n",
    "- **Columns**: Use `df['col']`\n",
    "- **Rows**: Use `loc[]` (label-based) or `iloc[]` (position-based)"
   ]
  },
  {
   "cell_type": "code",
   "execution_count": null,
   "id": "b2c3c820",
   "metadata": {},
   "outputs": [],
   "source": [
    "# Column access\n",
    "print(df['Name'])\n",
    "\n",
    "# Row access with loc\n",
    "print(df.loc[1])\n",
    "\n",
    "# Row access with iloc\n",
    "print(df.iloc[2])"
   ]
  },
  {
   "cell_type": "markdown",
   "id": "3dcfbe96",
   "metadata": {},
   "source": [
    "## 4️⃣ Adding and Dropping Columns\n"
   ]
  },
  {
   "cell_type": "code",
   "execution_count": null,
   "id": "b7527cbd",
   "metadata": {},
   "outputs": [],
   "source": [
    "# Adding a column\n",
    "df['Designation'] = ['Doctor','Engineer','Coder','Engineer']\n",
    "print(df)\n",
    "\n",
    "# Dropping a column (not permanent)\n",
    "print(df.drop('Designation', axis=1))\n",
    "\n",
    "# Dropping permanently\n",
    "df.drop('Designation', axis=1, inplace=True)\n",
    "print(df)"
   ]
  },
  {
   "cell_type": "markdown",
   "id": "ab883ab4",
   "metadata": {},
   "source": [
    "## 5️⃣ Basic Operations on DataFrames\n"
   ]
  },
  {
   "cell_type": "code",
   "execution_count": null,
   "id": "7b823682",
   "metadata": {},
   "outputs": [],
   "source": [
    "# Summary statistics\n",
    "print(df.describe())\n",
    "\n",
    "# Selecting multiple columns\n",
    "print(df[['Name','Salary']])\n",
    "\n",
    "# Filtering\n",
    "print(df[df['Salary'] > 60000])"
   ]
  },
  {
   "cell_type": "markdown",
   "id": "a7609bc6",
   "metadata": {},
   "source": [
    "## 6️⃣ Handling Missing Data\n"
   ]
  },
  {
   "cell_type": "code",
   "execution_count": null,
   "id": "141f961f",
   "metadata": {},
   "outputs": [],
   "source": [
    "import numpy as np\n",
    "\n",
    "# Insert some missing values\n",
    "df.loc[2,'Salary'] = np.nan\n",
    "print(df)\n",
    "\n",
    "# Detect NaN\n",
    "print(df.isnull())\n",
    "\n",
    "# Fill NaN\n",
    "df['Salary'] = df['Salary'].fillna(df['Salary'].mean())\n",
    "print(df)"
   ]
  },
  {
   "cell_type": "markdown",
   "id": "a2f49d76",
   "metadata": {},
   "source": [
    "## 7️⃣ Hands-on Exercises ✍️\n",
    "1. Create a DataFrame of 5 students with Name, Age, Grade, and City.\n",
    "2. Access the 'Grade' column and the 3rd row.\n",
    "3. Add a new column 'Scholarship' with True/False values.\n",
    "4. Drop the 'City' column permanently.\n",
    "5. Handle missing values in your DataFrame.\n",
    "\n",
    "---\n",
    "✅ This concludes the **Pandas DataFrame tutorial**."
   ]
  }
 ],
 "metadata": {
  "kernelspec": {
   "display_name": "Python 3 (ipykernel)",
   "language": "python",
   "name": "python3"
  },
  "language_info": {
   "codemirror_mode": {
    "name": "ipython",
    "version": 3
   },
   "file_extension": ".py",
   "mimetype": "text/x-python",
   "name": "python",
   "nbconvert_exporter": "python",
   "pygments_lexer": "ipython3",
   "version": "3.13.5"
  }
 },
 "nbformat": 4,
 "nbformat_minor": 5
}
