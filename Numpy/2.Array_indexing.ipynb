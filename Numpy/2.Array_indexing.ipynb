{
 "cells": [
  {
   "cell_type": "code",
   "execution_count": 1,
   "id": "8c1def53-4fe0-462f-88a1-dfc8f7b084c2",
   "metadata": {},
   "outputs": [],
   "source": [
    "import numpy as np"
   ]
  },
  {
   "cell_type": "markdown",
   "id": "2b0c7b48-cdbb-4911-a195-8a113235ccab",
   "metadata": {},
   "source": [
    "**Numpy indexing and slicing of vectors**"
   ]
  },
  {
   "cell_type": "code",
   "execution_count": 4,
   "id": "9f1ceb69-df85-4632-9712-76e7023f2a32",
   "metadata": {},
   "outputs": [
    {
     "data": {
      "text/plain": [
       "array([11, 12, 13, 14, 15, 16, 17, 18, 19, 20])"
      ]
     },
     "execution_count": 4,
     "metadata": {},
     "output_type": "execute_result"
    }
   ],
   "source": [
    "arr=np.arange(11,21)\n",
    "arr"
   ]
  },
  {
   "cell_type": "code",
   "execution_count": 6,
   "id": "c1980937-6874-4f34-a807-3e2955d8329b",
   "metadata": {},
   "outputs": [
    {
     "data": {
      "text/plain": [
       "np.int64(16)"
      ]
     },
     "execution_count": 6,
     "metadata": {},
     "output_type": "execute_result"
    }
   ],
   "source": [
    "arr[5]   #indexing starting from 0"
   ]
  },
  {
   "cell_type": "markdown",
   "id": "73eb8995-06c3-4248-addf-d4b3ad496ed8",
   "metadata": {},
   "source": [
    "Slicing"
   ]
  },
  {
   "cell_type": "code",
   "execution_count": 7,
   "id": "1647079b-8ec9-48f0-9d11-eef26f1da67d",
   "metadata": {},
   "outputs": [
    {
     "data": {
      "text/plain": [
       "array([12, 13, 14, 15])"
      ]
     },
     "execution_count": 7,
     "metadata": {},
     "output_type": "execute_result"
    }
   ],
   "source": [
    "arr[1:5]   # prints values from index 1 to 4 (5 is exclusive)"
   ]
  },
  {
   "cell_type": "code",
   "execution_count": 9,
   "id": "9b9f2368-42c3-45ea-ad86-a734e74c9cb0",
   "metadata": {},
   "outputs": [
    {
     "data": {
      "text/plain": [
       "array([11, 12, 13, 14, 15, 16])"
      ]
     },
     "execution_count": 9,
     "metadata": {},
     "output_type": "execute_result"
    }
   ],
   "source": [
    "arr[:6]    # prints from start till given index"
   ]
  },
  {
   "cell_type": "code",
   "execution_count": 10,
   "id": "043bbb32-ca09-4349-a820-eed82b02b275",
   "metadata": {},
   "outputs": [
    {
     "data": {
      "text/plain": [
       "array([13, 14, 15, 16, 17, 18, 19, 20])"
      ]
     },
     "execution_count": 10,
     "metadata": {},
     "output_type": "execute_result"
    }
   ],
   "source": [
    "arr[2:]   # prints from given index till end"
   ]
  },
  {
   "cell_type": "code",
   "execution_count": 11,
   "id": "d91df267-0e30-4c74-94b3-e87d2fc5df3f",
   "metadata": {},
   "outputs": [
    {
     "data": {
      "text/plain": [
       "array([11, 12, 13, 14, 15, 16, 17, 18, 19, 20])"
      ]
     },
     "execution_count": 11,
     "metadata": {},
     "output_type": "execute_result"
    }
   ],
   "source": [
    "arr[:]    # prints from start to end"
   ]
  },
  {
   "cell_type": "code",
   "execution_count": 17,
   "id": "4d1287ad-5aab-4532-af6c-4143784a747b",
   "metadata": {},
   "outputs": [
    {
     "data": {
      "text/plain": [
       "array([12, 14, 16, 18])"
      ]
     },
     "execution_count": 17,
     "metadata": {},
     "output_type": "execute_result"
    }
   ],
   "source": [
    "arr[1:9:2]   # prints elements from index 1 to 8 with 2 steps each"
   ]
  },
  {
   "cell_type": "markdown",
   "id": "b00e150c-bc76-45d6-ad97-4baf24c74bd1",
   "metadata": {},
   "source": [
    "**Numpy indexing and slicing of Matrix**"
   ]
  },
  {
   "cell_type": "code",
   "execution_count": 23,
   "id": "97b87a5c-2aa2-41d9-8287-246e276bb8db",
   "metadata": {},
   "outputs": [
    {
     "data": {
      "text/plain": [
       "array([[ 1,  2,  3,  4,  5],\n",
       "       [ 6,  7,  8,  9, 10],\n",
       "       [11, 12, 13, 14, 15],\n",
       "       [16, 17, 18, 19, 20],\n",
       "       [21, 22, 23, 24, 25],\n",
       "       [26, 27, 28, 29, 30]])"
      ]
     },
     "execution_count": 23,
     "metadata": {},
     "output_type": "execute_result"
    }
   ],
   "source": [
    "arr=np.arange(1,31).reshape(6,5)\n",
    "arr"
   ]
  },
  {
   "cell_type": "code",
   "execution_count": 24,
   "id": "ee4cd4d8-407c-44aa-b7d3-09d5ec93f614",
   "metadata": {},
   "outputs": [
    {
     "data": {
      "text/plain": [
       "array([21, 22, 23, 24, 25])"
      ]
     },
     "execution_count": 24,
     "metadata": {},
     "output_type": "execute_result"
    }
   ],
   "source": [
    "arr[4]   # prints a specific row based on its index in case of a matrix"
   ]
  },
  {
   "cell_type": "code",
   "execution_count": 25,
   "id": "51dd6e79-d6e6-4a2a-bcd2-82d60a046c9e",
   "metadata": {},
   "outputs": [
    {
     "data": {
      "text/plain": [
       "np.int64(14)"
      ]
     },
     "execution_count": 25,
     "metadata": {},
     "output_type": "execute_result"
    }
   ],
   "source": [
    "arr[2,3]  # prints the element on second row and third column of matrix"
   ]
  },
  {
   "cell_type": "code",
   "execution_count": 29,
   "id": "578bccfb-112b-430c-8cc2-eb55e7298d1d",
   "metadata": {},
   "outputs": [
    {
     "data": {
      "text/plain": [
       "array([[2, 3],\n",
       "       [7, 8]])"
      ]
     },
     "execution_count": 29,
     "metadata": {},
     "output_type": "execute_result"
    }
   ],
   "source": [
    "slice=arr[0:2,1:3]   # slice elememts on specific row and column\n",
    "slice"
   ]
  },
  {
   "cell_type": "code",
   "execution_count": 31,
   "id": "27dfc3da-215a-4257-960f-e2960d24219e",
   "metadata": {},
   "outputs": [
    {
     "data": {
      "text/plain": [
       "array([[19, 20],\n",
       "       [24, 25],\n",
       "       [29, 30]])"
      ]
     },
     "execution_count": 31,
     "metadata": {},
     "output_type": "execute_result"
    }
   ],
   "source": [
    "arr[3:,3:]"
   ]
  },
  {
   "cell_type": "code",
   "execution_count": 33,
   "id": "b08b24d9-04bb-41ba-a5a3-444c83e049b9",
   "metadata": {},
   "outputs": [
    {
     "data": {
      "text/plain": [
       "array([ 4,  9, 14, 19, 24, 29])"
      ]
     },
     "execution_count": 33,
     "metadata": {},
     "output_type": "execute_result"
    }
   ],
   "source": [
    "arr[:,3]   # prints a specific column based on its index in case of a matrix"
   ]
  },
  {
   "cell_type": "markdown",
   "id": "f7d9f5e8-fbb4-4a46-8727-3d92e5efc50d",
   "metadata": {},
   "source": [
    "**Boolean indexing**"
   ]
  },
  {
   "cell_type": "code",
   "execution_count": 47,
   "id": "d91dd2d3-367e-42cb-bab4-d5f80020934a",
   "metadata": {},
   "outputs": [
    {
     "data": {
      "text/plain": [
       "array([11, 12, 13, 14, 15, 16, 17, 18, 19, 20])"
      ]
     },
     "execution_count": 47,
     "metadata": {},
     "output_type": "execute_result"
    }
   ],
   "source": [
    "arr=np.arange(11,21)\n",
    "arr"
   ]
  },
  {
   "cell_type": "code",
   "execution_count": 48,
   "id": "25cdcd43-a309-4a43-a705-51843bee9a20",
   "metadata": {},
   "outputs": [
    {
     "data": {
      "text/plain": [
       "array([False,  True, False,  True, False,  True, False,  True, False,\n",
       "        True])"
      ]
     },
     "execution_count": 48,
     "metadata": {},
     "output_type": "execute_result"
    }
   ],
   "source": [
    "bool_index = arr % 2 == 0\n",
    "bool_index"
   ]
  },
  {
   "cell_type": "code",
   "execution_count": 49,
   "id": "55006641-a90e-4c6d-87a3-357644506e25",
   "metadata": {},
   "outputs": [
    {
     "data": {
      "text/plain": [
       "array([12, 14, 16, 18, 20])"
      ]
     },
     "execution_count": 49,
     "metadata": {},
     "output_type": "execute_result"
    }
   ],
   "source": [
    "arr=arr[bool_index]\n",
    "arr"
   ]
  },
  {
   "cell_type": "markdown",
   "id": "84676d1d",
   "metadata": {},
   "source": [
    "## 🔹 What is NumPy?\n",
    "NumPy is a powerful Python library for numerical computing.\n",
    "- Provides arrays that are **faster and more memory-efficient** than Python lists.\n",
    "- Supports **vectorized operations** (apply operations on entire arrays without loops).\n",
    "- Useful in data science, ML, image processing, etc."
   ]
  },
  {
   "cell_type": "markdown",
   "id": "4d67e468",
   "metadata": {},
   "source": [
    "## 🔹 Indexing\n",
    "- NumPy uses **0-based indexing** (first element at index 0).\n",
    "- Supports **positive and negative indexing**."
   ]
  },
  {
   "cell_type": "code",
   "execution_count": null,
   "id": "fc815642",
   "metadata": {},
   "outputs": [],
   "source": [
    "arr = np.arange(11,21)\n",
    "print('Array:', arr)\n",
    "print('arr[0] →', arr[0])\n",
    "print('arr[-1] →', arr[-1])  # last element\n",
    "print('arr[-2] →', arr[-2])  # second last"
   ]
  },
  {
   "cell_type": "markdown",
   "id": "4d239489",
   "metadata": {},
   "source": [
    "## 🔹 Slicing\n",
    "General form: `arr[start:stop:step]`\n",
    "- `arr[2:6]` → elements from index 2 to 5\n",
    "- `arr[:5]` → first 5 elements\n",
    "- `arr[::2]` → every second element\n",
    "- `arr[::-1]` → reversed array"
   ]
  },
  {
   "cell_type": "code",
   "execution_count": null,
   "id": "cb967494",
   "metadata": {},
   "outputs": [],
   "source": [
    "print('arr[2:6] →', arr[2:6])\n",
    "print('arr[:5] →', arr[:5])\n",
    "print('arr[::2] →', arr[::2])\n",
    "print('arr[::-1] →', arr[::-1])"
   ]
  },
  {
   "cell_type": "markdown",
   "id": "bebf9538",
   "metadata": {},
   "source": [
    "## 🔹 Copy vs View (Shallow vs Deep Copy)\n",
    "- **Slicing** creates a **view** (changes affect the original array).\n",
    "- Use `.copy()` to make a deep copy."
   ]
  },
  {
   "cell_type": "code",
   "execution_count": null,
   "id": "ee85b33a",
   "metadata": {},
   "outputs": [],
   "source": [
    "arr = np.arange(10)\n",
    "slice_view = arr[:5]   # view (shallow copy)\n",
    "slice_view[0] = 99\n",
    "print('Modified slice:', slice_view)\n",
    "print('Original array also changed:', arr)\n",
    "\n",
    "arr_copy = arr[:5].copy()   # deep copy\n",
    "arr_copy[0] = -1\n",
    "print('Deep copy modified:', arr_copy)\n",
    "print('Original array unaffected:', arr)"
   ]
  },
  {
   "cell_type": "markdown",
   "id": "a8a79e8e",
   "metadata": {},
   "source": [
    "## 🔹 2D Array Indexing\n",
    "- Access rows and columns with `[row, col]`\n",
    "- Use `:` for slicing rows/columns."
   ]
  },
  {
   "cell_type": "code",
   "execution_count": null,
   "id": "99f505da",
   "metadata": {},
   "outputs": [],
   "source": [
    "arr2d = np.array([[1,2,3],[4,5,6],[7,8,9]])\n",
    "print('2D Array:\\n', arr2d)\n",
    "print('arr2d[1,2] →', arr2d[1,2])   # row 1, col 2\n",
    "print('arr2d[:,1] →', arr2d[:,1])   # all rows, 2nd column"
   ]
  },
  {
   "cell_type": "markdown",
   "id": "2fc205f3",
   "metadata": {},
   "source": [
    "## 🔹 Fancy Indexing\n",
    "- Select elements using a list/array of indices."
   ]
  },
  {
   "cell_type": "code",
   "execution_count": null,
   "id": "739d5f78",
   "metadata": {},
   "outputs": [],
   "source": [
    "arr = np.arange(10,20)\n",
    "print('Array:', arr)\n",
    "print('arr[[0,2,4]] →', arr[[0,2,4]])"
   ]
  },
  {
   "cell_type": "markdown",
   "id": "6fc348c3",
   "metadata": {},
   "source": [
    "## 🔹 Boolean Indexing\n",
    "- Select elements based on conditions."
   ]
  },
  {
   "cell_type": "code",
   "execution_count": null,
   "id": "6eab7fc8",
   "metadata": {},
   "outputs": [],
   "source": [
    "arr = np.arange(10,20)\n",
    "print('Array:', arr)\n",
    "print('arr[arr > 15] →', arr[arr > 15])"
   ]
  }
 ],
 "metadata": {
  "kernelspec": {
   "display_name": "Python 3 (ipykernel)",
   "language": "python",
   "name": "python3"
  },
  "language_info": {
   "codemirror_mode": {
    "name": "ipython",
    "version": 3
   },
   "file_extension": ".py",
   "mimetype": "text/x-python",
   "name": "python",
   "nbconvert_exporter": "python",
   "pygments_lexer": "ipython3",
   "version": "3.13.5"
  }
 },
 "nbformat": 4,
 "nbformat_minor": 5
}
