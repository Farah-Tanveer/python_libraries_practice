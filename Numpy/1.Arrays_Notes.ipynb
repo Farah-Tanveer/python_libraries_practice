{
 "cells": [
  {
   "cell_type": "markdown",
   "id": "216730aa",
   "metadata": {},
   "source": [
    "\n",
    "# 📘 Arrays in Programming\n",
    "\n",
    "An **Array** is a **collection of elements** (values or variables), each identified by an **index**.  \n",
    "Arrays are one of the most fundamental data structures in programming, used to store multiple items of the same type in a single variable.\n",
    "\n",
    "---\n",
    "\n",
    "## ✨ Key Points:\n",
    "- Arrays are **contiguous memory locations**.\n",
    "- They allow **random access** using indexes.\n",
    "- Array index starts from **0** in most programming languages (like C, C++, Java, Python).\n",
    "- Fixed size: Once declared, the size of an array usually cannot be changed.\n",
    "\n",
    "---\n",
    "\n",
    "## 🔑 Definition:\n",
    "An array is a data structure consisting of a collection of elements, each identified by at least one array index or key.\n",
    "\n",
    "---\n",
    "\n",
    "## 📊 Example Diagram:\n",
    "\n",
    "### Array of Size 5:\n",
    "```\n",
    "Index:   0    1    2    3    4\n",
    "Value:  10   20   30   40   50\n",
    "```\n",
    "\n",
    "This means:\n",
    "- `arr[0] = 10`\n",
    "- `arr[1] = 20`\n",
    "- `arr[2] = 30`\n",
    "- `arr[3] = 40`\n",
    "- `arr[4] = 50`\n",
    "\n",
    "---\n",
    "\n",
    "## ✅ Operations on Arrays:\n",
    "1. **Traversal** – Accessing each element one by one.\n",
    "2. **Insertion** – Adding a new element (at the beginning, middle, or end).\n",
    "3. **Deletion** – Removing an element from a specific position.\n",
    "4. **Searching** – Finding the position of an element (Linear Search, Binary Search).\n",
    "5. **Updation** – Modifying an existing element.\n",
    "\n",
    "---\n"
   ]
  },
  {
   "cell_type": "markdown",
   "id": "6de9548a-ce4b-4294-83ef-0be0acf22e11",
   "metadata": {},
   "source": [
    "**A NumPy array (also called ndarray) is a special type of array provided by the NumPy library.**\n",
    "\n",
    "Stores elements of the same data type (all integers, all floats, etc.).\n",
    "\n",
    "Supports fast mathematical operations (addition, multiplication, etc.) directly on the whole array."
   ]
  },
  {
   "cell_type": "code",
   "execution_count": 2,
   "id": "d61c1df1-644d-41b7-8fc1-9d82e83a0d97",
   "metadata": {},
   "outputs": [],
   "source": [
    "import numpy as np"
   ]
  },
  {
   "cell_type": "markdown",
   "id": "7609b977-e0d6-47df-9c67-6171bc2688f3",
   "metadata": {},
   "source": [
    "**1.Basic Array creation**"
   ]
  },
  {
   "cell_type": "code",
   "execution_count": 3,
   "id": "be0ca8de-f99d-419e-94f0-b01da81b4c42",
   "metadata": {},
   "outputs": [
    {
     "data": {
      "text/plain": [
       "array([1, 2, 3, 4])"
      ]
     },
     "execution_count": 3,
     "metadata": {},
     "output_type": "execute_result"
    }
   ],
   "source": [
    "arr=np.array([1,2,3,4])\n",
    "arr"
   ]
  },
  {
   "cell_type": "markdown",
   "id": "0a199325-4ec8-4689-a8d6-dce88f0d0a9c",
   "metadata": {},
   "source": [
    "*Lists can store different datatypes*\n"
   ]
  },
  {
   "cell_type": "code",
   "execution_count": 4,
   "id": "3d0836fc-d0e4-4a36-af0d-ca60a0ef783c",
   "metadata": {},
   "outputs": [
    {
     "data": {
      "text/plain": [
       "[1, 2, 3, 'hello']"
      ]
     },
     "execution_count": 4,
     "metadata": {},
     "output_type": "execute_result"
    }
   ],
   "source": [
    "my_list=[1,2,3,\"hello\"]\n",
    "my_list"
   ]
  },
  {
   "cell_type": "markdown",
   "id": "0eaab84f-ece6-45cb-bd61-b256097e9cf2",
   "metadata": {},
   "source": [
    "*But array can only store same datatype(e.g it will convert all integers to string-Typecasting)*\n"
   ]
  },
  {
   "cell_type": "code",
   "execution_count": 5,
   "id": "1e1be944-6717-465b-bf96-3bf80987f2a5",
   "metadata": {},
   "outputs": [
    {
     "data": {
      "text/plain": [
       "array(['1', '2', '3', 'hello'], dtype='<U21')"
      ]
     },
     "execution_count": 5,
     "metadata": {},
     "output_type": "execute_result"
    }
   ],
   "source": [
    "arr1=np.array(my_list)\n",
    "arr1"
   ]
  },
  {
   "cell_type": "markdown",
   "id": "f0eb75d2-0094-44e8-870e-a5452c148f10",
   "metadata": {},
   "source": [
    "2-Dimensional Array(Matrix)"
   ]
  },
  {
   "cell_type": "code",
   "execution_count": 6,
   "id": "cb3d94da-ac4e-445b-8efd-b244b0cb467a",
   "metadata": {},
   "outputs": [
    {
     "data": {
      "text/plain": [
       "array([[1, 2, 3],\n",
       "       [4, 5, 6],\n",
       "       [7, 8, 9]])"
      ]
     },
     "execution_count": 6,
     "metadata": {},
     "output_type": "execute_result"
    }
   ],
   "source": [
    "arr2=np.array([[1,2,3],[4,5,6],[7,8,9]])\n",
    "arr2"
   ]
  },
  {
   "cell_type": "markdown",
   "id": "dd3e2727-7810-44d1-8075-bb3c127ca22f",
   "metadata": {},
   "source": [
    "**2.Array generation function**"
   ]
  },
  {
   "cell_type": "code",
   "execution_count": 7,
   "id": "f063d360-f7a6-479d-aa61-ac788978537d",
   "metadata": {},
   "outputs": [
    {
     "data": {
      "text/plain": [
       "array([ 1,  2,  3,  4,  5,  6,  7,  8,  9, 10])"
      ]
     },
     "execution_count": 7,
     "metadata": {},
     "output_type": "execute_result"
    }
   ],
   "source": [
    "np.arange(1,11)   #Here 11 is exclusive"
   ]
  },
  {
   "cell_type": "code",
   "execution_count": 8,
   "id": "4b4b0690-4544-409f-86e6-5c8c85d5fba9",
   "metadata": {},
   "outputs": [
    {
     "data": {
      "text/plain": [
       "array([1, 3, 5, 7, 9])"
      ]
     },
     "execution_count": 8,
     "metadata": {},
     "output_type": "execute_result"
    }
   ],
   "source": [
    "np.arange(1,11,2)  #prints numbers from 1 to 10 but with a gap of 2 each"
   ]
  },
  {
   "cell_type": "markdown",
   "id": "3069f3dd-d467-42f7-b0bd-20a88d0b58c8",
   "metadata": {},
   "source": [
    "Generate array of zeros"
   ]
  },
  {
   "cell_type": "code",
   "execution_count": 9,
   "id": "8425e0ff-6ef4-4648-9ee6-338cc90a3563",
   "metadata": {},
   "outputs": [
    {
     "data": {
      "text/plain": [
       "array([0., 0., 0., 0., 0., 0.])"
      ]
     },
     "execution_count": 9,
     "metadata": {},
     "output_type": "execute_result"
    }
   ],
   "source": [
    "np.zeros(6)    #1-Dimensional"
   ]
  },
  {
   "cell_type": "code",
   "execution_count": 10,
   "id": "a683b0a4-f97a-4892-bf51-06260db2b575",
   "metadata": {},
   "outputs": [
    {
     "data": {
      "text/plain": [
       "array([[0., 0., 0., 0., 0., 0., 0., 0.],\n",
       "       [0., 0., 0., 0., 0., 0., 0., 0.],\n",
       "       [0., 0., 0., 0., 0., 0., 0., 0.],\n",
       "       [0., 0., 0., 0., 0., 0., 0., 0.]])"
      ]
     },
     "execution_count": 10,
     "metadata": {},
     "output_type": "execute_result"
    }
   ],
   "source": [
    "np.zeros((4,8))    #1-Dimensional"
   ]
  },
  {
   "cell_type": "markdown",
   "id": "5101c0ac-ab2f-430b-bfff-4bafc9d22df1",
   "metadata": {},
   "source": [
    "Generate array of ones"
   ]
  },
  {
   "cell_type": "code",
   "execution_count": 11,
   "id": "0f334fc6-c977-4884-add1-754741f5e34e",
   "metadata": {},
   "outputs": [
    {
     "data": {
      "text/plain": [
       "array([1., 1., 1., 1., 1., 1., 1.])"
      ]
     },
     "execution_count": 11,
     "metadata": {},
     "output_type": "execute_result"
    }
   ],
   "source": [
    "np.ones(7)"
   ]
  },
  {
   "cell_type": "code",
   "execution_count": 12,
   "id": "c7447969-12c3-42c2-a879-bdbf909c9d27",
   "metadata": {},
   "outputs": [
    {
     "data": {
      "text/plain": [
       "array([[1., 1., 1., 1., 1., 1., 1., 1.],\n",
       "       [1., 1., 1., 1., 1., 1., 1., 1.],\n",
       "       [1., 1., 1., 1., 1., 1., 1., 1.],\n",
       "       [1., 1., 1., 1., 1., 1., 1., 1.],\n",
       "       [1., 1., 1., 1., 1., 1., 1., 1.],\n",
       "       [1., 1., 1., 1., 1., 1., 1., 1.],\n",
       "       [1., 1., 1., 1., 1., 1., 1., 1.]])"
      ]
     },
     "execution_count": 12,
     "metadata": {},
     "output_type": "execute_result"
    }
   ],
   "source": [
    "np.ones((7,8))"
   ]
  },
  {
   "cell_type": "markdown",
   "id": "720212d1-7d0d-4995-b878-54d6081e3d47",
   "metadata": {},
   "source": [
    "linspace()-->returns evenly spaced numbers over a specified interval"
   ]
  },
  {
   "cell_type": "code",
   "execution_count": 13,
   "id": "661e06d1-64cb-4584-b72c-399d4be185af",
   "metadata": {},
   "outputs": [
    {
     "data": {
      "text/plain": [
       "array([1.        , 2.33333333, 3.66666667, 5.        ])"
      ]
     },
     "execution_count": 13,
     "metadata": {},
     "output_type": "execute_result"
    }
   ],
   "source": [
    "arr=np.linspace(1,5,4)    # prints 4 evenly spaced numbers between 1 and 5 (inclusive)\n",
    "arr"
   ]
  },
  {
   "cell_type": "markdown",
   "id": "a937c667-9d5d-4eb5-87d4-6fed03bd5697",
   "metadata": {},
   "source": [
    "**3.Random generation function**"
   ]
  },
  {
   "cell_type": "code",
   "execution_count": 14,
   "id": "9f6966ae-74ae-4e8e-b7b9-a57f28c52435",
   "metadata": {},
   "outputs": [
    {
     "data": {
      "text/plain": [
       "array([0.45815362, 0.01867407, 0.72365846, 0.80950581, 0.96529127])"
      ]
     },
     "execution_count": 14,
     "metadata": {},
     "output_type": "execute_result"
    }
   ],
   "source": [
    "arr=np.random.rand(5)     # normalization(prints values between 0 and 1)\n",
    "arr"
   ]
  },
  {
   "cell_type": "code",
   "execution_count": 15,
   "id": "01f675b2-1dba-48c1-9925-ad9ddd592708",
   "metadata": {},
   "outputs": [
    {
     "data": {
      "text/plain": [
       "array([-0.26555895,  0.24521443,  1.082294  , -0.82582657,  0.15521409,\n",
       "       -1.04919925])"
      ]
     },
     "execution_count": 15,
     "metadata": {},
     "output_type": "execute_result"
    }
   ],
   "source": [
    "arr=np.random.randn(6)    # standarization(prints values between -3 and 3)\n",
    "arr"
   ]
  },
  {
   "cell_type": "code",
   "execution_count": 16,
   "id": "de3b7202-b517-45b9-98fe-47db7d8bc50b",
   "metadata": {},
   "outputs": [
    {
     "data": {
      "text/plain": [
       "array([ 8, 10, 11, 10, 10,  6,  7,  8,  9, 11], dtype=int32)"
      ]
     },
     "execution_count": 16,
     "metadata": {},
     "output_type": "execute_result"
    }
   ],
   "source": [
    "arr=np.random.randint(6,12,10)   # prints 10 random numbers between 6 and 12 (exclusive) \n",
    "arr"
   ]
  },
  {
   "cell_type": "markdown",
   "id": "b9bb5ee7-9396-4846-9c57-b68989b6a556",
   "metadata": {},
   "source": [
    "**4.Array Attributes**"
   ]
  },
  {
   "cell_type": "code",
   "execution_count": 20,
   "id": "b6ca96cc-88cd-42d8-ac39-ab886e47b54b",
   "metadata": {},
   "outputs": [
    {
     "data": {
      "text/plain": [
       "array([[1, 2, 3],\n",
       "       [4, 5, 6],\n",
       "       [7, 8, 9]])"
      ]
     },
     "execution_count": 20,
     "metadata": {},
     "output_type": "execute_result"
    }
   ],
   "source": [
    "arr=np.array([[1,2,3],[4,5,6],[7,8,9]])\n",
    "arr"
   ]
  },
  {
   "cell_type": "code",
   "execution_count": 21,
   "id": "752f5838-fdc3-40ba-902f-59915862b490",
   "metadata": {},
   "outputs": [
    {
     "data": {
      "text/plain": [
       "(3, 3)"
      ]
     },
     "execution_count": 21,
     "metadata": {},
     "output_type": "execute_result"
    }
   ],
   "source": [
    "arr.shape"
   ]
  },
  {
   "cell_type": "code",
   "execution_count": 22,
   "id": "a74110fa-d521-4482-8fa8-e342940f3f9a",
   "metadata": {},
   "outputs": [
    {
     "data": {
      "text/plain": [
       "9"
      ]
     },
     "execution_count": 22,
     "metadata": {},
     "output_type": "execute_result"
    }
   ],
   "source": [
    "arr.size"
   ]
  },
  {
   "cell_type": "code",
   "execution_count": 23,
   "id": "30a8ba74-96b0-4260-96bc-ef9f55823297",
   "metadata": {},
   "outputs": [
    {
     "data": {
      "text/plain": [
       "dtype('int64')"
      ]
     },
     "execution_count": 23,
     "metadata": {},
     "output_type": "execute_result"
    }
   ],
   "source": [
    "arr.dtype"
   ]
  },
  {
   "cell_type": "markdown",
   "id": "8740e97f-efe5-433c-95a5-f3d2423681f1",
   "metadata": {},
   "source": [
    "**5.Array Methods**"
   ]
  },
  {
   "cell_type": "code",
   "execution_count": 24,
   "id": "b3f3cf84-a97c-4cbe-96ee-badd00d2a020",
   "metadata": {},
   "outputs": [
    {
     "data": {
      "text/plain": [
       "array([[1, 2, 3],\n",
       "       [4, 5, 6],\n",
       "       [7, 8, 9]])"
      ]
     },
     "execution_count": 24,
     "metadata": {},
     "output_type": "execute_result"
    }
   ],
   "source": [
    "arr=np.array([[1,2,3],[4,5,6],[7,8,9]])\n",
    "arr"
   ]
  },
  {
   "cell_type": "code",
   "execution_count": 28,
   "id": "782d2353-bf1e-4569-a68d-59d7133d7eb0",
   "metadata": {},
   "outputs": [
    {
     "data": {
      "text/plain": [
       "np.int64(1)"
      ]
     },
     "execution_count": 28,
     "metadata": {},
     "output_type": "execute_result"
    }
   ],
   "source": [
    "arr.min()   # prints minimum element in whole array-->1"
   ]
  },
  {
   "cell_type": "code",
   "execution_count": 30,
   "id": "4903f6d7-4764-4e3c-a1df-5522435ae2b8",
   "metadata": {},
   "outputs": [
    {
     "data": {
      "text/plain": [
       "np.int64(9)"
      ]
     },
     "execution_count": 30,
     "metadata": {},
     "output_type": "execute_result"
    }
   ],
   "source": [
    "arr.max()    # prints maximun element in whole array-->9"
   ]
  },
  {
   "cell_type": "code",
   "execution_count": 37,
   "id": "1d40fd35-3ebc-456f-80fd-8270b6514382",
   "metadata": {},
   "outputs": [
    {
     "data": {
      "text/plain": [
       "np.int64(45)"
      ]
     },
     "execution_count": 37,
     "metadata": {},
     "output_type": "execute_result"
    }
   ],
   "source": [
    "arr.sum()    # prints the sum of whole array"
   ]
  },
  {
   "cell_type": "code",
   "execution_count": 38,
   "id": "7b38061c-a0cc-4b41-b570-b10d0e141bfe",
   "metadata": {},
   "outputs": [
    {
     "data": {
      "text/plain": [
       "array([12, 15, 18])"
      ]
     },
     "execution_count": 38,
     "metadata": {},
     "output_type": "execute_result"
    }
   ],
   "source": [
    "np.sum(arr,axis=0)   # prints sum of each column"
   ]
  },
  {
   "cell_type": "code",
   "execution_count": 39,
   "id": "457941f7-8bca-4efc-82cf-f3b5be29776b",
   "metadata": {},
   "outputs": [
    {
     "data": {
      "text/plain": [
       "array([ 6, 15, 24])"
      ]
     },
     "execution_count": 39,
     "metadata": {},
     "output_type": "execute_result"
    }
   ],
   "source": [
    "np.sum(arr,axis=1)   # prints sum of each row"
   ]
  },
  {
   "cell_type": "code",
   "execution_count": 40,
   "id": "92ed90ad-bc61-477c-8e15-898e5937f0d9",
   "metadata": {},
   "outputs": [
    {
     "data": {
      "text/plain": [
       "np.float64(5.0)"
      ]
     },
     "execution_count": 40,
     "metadata": {},
     "output_type": "execute_result"
    }
   ],
   "source": [
    "arr.mean()     # prints the mean of array"
   ]
  },
  {
   "cell_type": "code",
   "execution_count": 41,
   "id": "2a188a55-571e-43e7-a326-0702353519c3",
   "metadata": {},
   "outputs": [
    {
     "data": {
      "text/plain": [
       "np.float64(2.581988897471611)"
      ]
     },
     "execution_count": 41,
     "metadata": {},
     "output_type": "execute_result"
    }
   ],
   "source": [
    "arr.std()      # prints the standard deviation"
   ]
  },
  {
   "cell_type": "code",
   "execution_count": 43,
   "id": "cc95d4f8-a301-4000-bd4f-ed148d3875bb",
   "metadata": {},
   "outputs": [
    {
     "data": {
      "text/plain": [
       "np.int64(8)"
      ]
     },
     "execution_count": 43,
     "metadata": {},
     "output_type": "execute_result"
    }
   ],
   "source": [
    "arr.argmax()    # prints the maximum or last index number"
   ]
  },
  {
   "cell_type": "code",
   "execution_count": 44,
   "id": "8ed824d8-34af-489b-bd7b-9dda302f5518",
   "metadata": {},
   "outputs": [
    {
     "data": {
      "text/plain": [
       "np.int64(0)"
      ]
     },
     "execution_count": 44,
     "metadata": {},
     "output_type": "execute_result"
    }
   ],
   "source": [
    "arr.argmin()    # prints the minimum or first index number"
   ]
  },
  {
   "cell_type": "markdown",
   "id": "09fa258b-b25b-468b-bf25-bf56610dc1a6",
   "metadata": {},
   "source": [
    "**5. Reshaping and Resizing**"
   ]
  },
  {
   "cell_type": "code",
   "execution_count": 46,
   "id": "ea64feda-77d6-4ddf-afbd-11d14799e5dc",
   "metadata": {},
   "outputs": [
    {
     "data": {
      "text/plain": [
       "array([ 1,  2,  3,  4,  5,  6,  7,  8,  9, 10, 11, 12, 13, 14, 15, 16, 17,\n",
       "       18, 19, 20, 21, 22, 23, 24, 25, 26, 27, 28, 29, 30])"
      ]
     },
     "execution_count": 46,
     "metadata": {},
     "output_type": "execute_result"
    }
   ],
   "source": [
    "arr=np.arange(1,31)\n",
    "arr"
   ]
  },
  {
   "cell_type": "raw",
   "id": "babce8cf-0b39-44d3-bbb4-fa906a819e8b",
   "metadata": {},
   "source": [
    "Reshaping"
   ]
  },
  {
   "cell_type": "code",
   "execution_count": 48,
   "id": "57bac102-88cf-4ad6-a4cc-8d1a8423d51c",
   "metadata": {},
   "outputs": [
    {
     "data": {
      "text/plain": [
       "array([[ 1,  2,  3,  4,  5],\n",
       "       [ 6,  7,  8,  9, 10],\n",
       "       [11, 12, 13, 14, 15],\n",
       "       [16, 17, 18, 19, 20],\n",
       "       [21, 22, 23, 24, 25],\n",
       "       [26, 27, 28, 29, 30]])"
      ]
     },
     "execution_count": 48,
     "metadata": {},
     "output_type": "execute_result"
    }
   ],
   "source": [
    "arr.reshape(6,5)   # number of rows x columns must be compatible with total number of elements-->2D array"
   ]
  },
  {
   "cell_type": "code",
   "execution_count": 54,
   "id": "198fc90f-4798-4740-ba12-6e119437291b",
   "metadata": {},
   "outputs": [
    {
     "data": {
      "text/plain": [
       "array([[[ 1,  2,  3,  4,  5],\n",
       "        [ 6,  7,  8,  9, 10],\n",
       "        [11, 12, 13, 14, 15]],\n",
       "\n",
       "       [[16, 17, 18, 19, 20],\n",
       "        [21, 22, 23, 24, 25],\n",
       "        [26, 27, 28, 29, 30]]])"
      ]
     },
     "execution_count": 54,
     "metadata": {},
     "output_type": "execute_result"
    }
   ],
   "source": [
    "arr.reshape(2,3,5)   # 3D array"
   ]
  },
  {
   "cell_type": "markdown",
   "id": "7e02accd-71cf-4b0d-b4bb-48a6626e7e2c",
   "metadata": {},
   "source": [
    "Resizing"
   ]
  },
  {
   "cell_type": "code",
   "execution_count": 51,
   "id": "221f88f4-3b05-4475-b4d2-206e0c67f200",
   "metadata": {},
   "outputs": [
    {
     "data": {
      "text/plain": [
       "array([[ 1,  2,  3,  4,  5],\n",
       "       [ 6,  7,  8,  9, 10],\n",
       "       [11, 12, 13, 14, 15],\n",
       "       [16, 17, 18, 19, 20],\n",
       "       [21, 22, 23, 24, 25],\n",
       "       [26, 27, 28, 29, 30]])"
      ]
     },
     "execution_count": 51,
     "metadata": {},
     "output_type": "execute_result"
    }
   ],
   "source": [
    "a=arr.reshape(6,5)   # just store it in a variable\n",
    "a"
   ]
  },
  {
   "cell_type": "markdown",
   "id": "3b2266fd",
   "metadata": {},
   "source": [
    "\n",
    "## 📌 Array Traversal Example (Visualization)\n",
    "\n",
    "Suppose we have an array:  \n",
    "`arr = [5, 10, 15, 20]`\n",
    "\n",
    "Traversal means visiting each element one by one:\n",
    "\n",
    "```\n",
    "for i in range(0, 4):\n",
    "    print(arr[i])\n",
    "```\n",
    "\n",
    "### Diagram:\n",
    "```\n",
    "Index →   0     1     2     3\n",
    "Value →   5    10    15    20\n",
    "```\n"
   ]
  },
  {
   "cell_type": "markdown",
   "id": "1ae5f536",
   "metadata": {},
   "source": [
    "\n",
    "# 📝 Summary of Arrays\n",
    "\n",
    "- Arrays store **multiple values of the same type**.  \n",
    "- They use **indexes for direct access**.  \n",
    "- Common operations: **Traversal, Insertion, Deletion, Searching, Updation**.  \n",
    "- Arrays are the **foundation** for advanced data structures like **Matrices, Strings, Linked Lists, Stacks, and Queues**.  \n",
    "\n",
    "---\n",
    "\n",
    "✅ Mastering arrays is essential before moving to more advanced data structures!\n"
   ]
  }
 ],
 "metadata": {
  "kernelspec": {
   "display_name": "Python 3 (ipykernel)",
   "language": "python",
   "name": "python3"
  },
  "language_info": {
   "codemirror_mode": {
    "name": "ipython",
    "version": 3
   },
   "file_extension": ".py",
   "mimetype": "text/x-python",
   "name": "python",
   "nbconvert_exporter": "python",
   "pygments_lexer": "ipython3",
   "version": "3.13.5"
  }
 },
 "nbformat": 4,
 "nbformat_minor": 5
}
