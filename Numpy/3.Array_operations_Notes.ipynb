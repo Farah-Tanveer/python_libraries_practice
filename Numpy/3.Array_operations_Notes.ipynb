{
 "cells": [
  {
   "cell_type": "markdown",
   "id": "75d6a9d5",
   "metadata": {},
   "source": [
    "# 📘 NumPy Array Operations — Notes"
   ]
  },
  {
   "cell_type": "markdown",
   "id": "5db1dfa4",
   "metadata": {},
   "source": [
    "\n",
    "## Introduction\n",
    "NumPy (Numerical Python) is a powerful Python library for numerical computing.  \n",
    "It provides **n-dimensional arrays** and supports a wide variety of operations like:\n",
    "- Arithmetic operations\n",
    "- Broadcasting\n",
    "- Indexing & slicing\n",
    "- Mathematical functions\n",
    "\n",
    "In this notebook, we will explore these array operations step by step.\n"
   ]
  },
  {
   "cell_type": "markdown",
   "id": "97018df8",
   "metadata": {},
   "source": [
    "## 1. Creating Arrays"
   ]
  },
  {
   "cell_type": "code",
   "execution_count": null,
   "id": "c6b179b5",
   "metadata": {},
   "outputs": [],
   "source": [
    "\n",
    "import numpy as np\n",
    "\n",
    "# Creating arrays\n",
    "a1 = np.array([1, 2, 3, 4, 5])\n",
    "a2 = np.array([6, 7, 8, 9, 10])\n",
    "\n",
    "a1, a2\n"
   ]
  },
  {
   "cell_type": "markdown",
   "id": "f1200a8a",
   "metadata": {},
   "source": [
    "\n",
    "## 2. Arithmetic Operations\n",
    "NumPy allows **element-wise arithmetic operations**.  \n",
    "That means the operation is applied **index by index**.\n",
    "\n",
    "📌 Example:\n"
   ]
  },
  {
   "cell_type": "code",
   "execution_count": null,
   "id": "c8146d1d",
   "metadata": {},
   "outputs": [],
   "source": [
    "\n",
    "# Element-wise operations\n",
    "print(\"Addition:\", a1 + a2)\n",
    "print(\"Subtraction:\", a1 - a2)\n",
    "print(\"Multiplication:\", a1 * a2)\n",
    "print(\"Division:\", a1 / a2)\n",
    "print(\"Floor Division:\", a1 // a2)\n",
    "print(\"Exponentiation:\", a1 ** a2)\n"
   ]
  },
  {
   "cell_type": "markdown",
   "id": "d636166c",
   "metadata": {},
   "source": [
    "\n",
    "🔎 **Diagram (Addition Example):**\n",
    "```\n",
    "a1:  [1   2   3   4   5]\n",
    "a2:  [6   7   8   9  10]\n",
    "------------------------\n",
    "a1+a2 = [7   9  11  13  15]\n",
    "```\n"
   ]
  },
  {
   "cell_type": "markdown",
   "id": "3662d522",
   "metadata": {},
   "source": [
    "## 3. Broadcasting"
   ]
  },
  {
   "cell_type": "markdown",
   "id": "5a3d0ee5",
   "metadata": {},
   "source": [
    "\n",
    "Broadcasting allows NumPy to perform operations on arrays of **different shapes**  \n",
    "when it is logically possible.\n",
    "\n",
    "📌 Rule: The smaller array is *stretched* to match the shape of the larger one.\n"
   ]
  },
  {
   "cell_type": "code",
   "execution_count": null,
   "id": "c65bcf43",
   "metadata": {},
   "outputs": [],
   "source": [
    "\n",
    "# Broadcasting example\n",
    "arr = np.array([1, 2, 3])\n",
    "print(arr + 5)   # scalar is broadcasted to each element\n",
    "\n",
    "matrix = np.array([[1, 2, 3], [4, 5, 6]])\n",
    "print(matrix + arr)  # arr is broadcasted across rows\n"
   ]
  },
  {
   "cell_type": "markdown",
   "id": "135bac32",
   "metadata": {},
   "source": [
    "\n",
    "🔎 **Diagram (Broadcasting Example):**\n",
    "\n",
    "```\n",
    "Matrix:       [[1 2 3]      +   [1 2 3]\n",
    "               [4 5 6]]\n",
    "\n",
    "Result:       [[2 4 6]\n",
    "               [5 7 9]]\n",
    "```\n"
   ]
  },
  {
   "cell_type": "markdown",
   "id": "8f9030ca",
   "metadata": {},
   "source": [
    "## 4. Common Mathematical Functions"
   ]
  },
  {
   "cell_type": "code",
   "execution_count": null,
   "id": "822b9d70",
   "metadata": {},
   "outputs": [],
   "source": [
    "\n",
    "# Common mathematical functions\n",
    "print(\"Square root:\", np.sqrt(a1))\n",
    "print(\"Logarithm:\", np.log(a1))\n",
    "print(\"Exponential:\", np.exp(a1))\n",
    "print(\"Sine:\", np.sin(a1))\n"
   ]
  },
  {
   "cell_type": "markdown",
   "id": "0c614f48",
   "metadata": {},
   "source": [
    "## 5. Indexing and Slicing"
   ]
  },
  {
   "cell_type": "code",
   "execution_count": null,
   "id": "13bb39b6",
   "metadata": {},
   "outputs": [],
   "source": [
    "\n",
    "# Indexing & slicing arrays\n",
    "arr = np.array([10, 20, 30, 40, 50])\n",
    "\n",
    "print(\"First element:\", arr[0])\n",
    "print(\"Last element:\", arr[-1])\n",
    "print(\"Slice [1:4]:\", arr[1:4])\n",
    "print(\"Every second element:\", arr[::2])\n"
   ]
  },
  {
   "cell_type": "markdown",
   "id": "f2a5094f",
   "metadata": {},
   "source": [
    "## ✅ Summary"
   ]
  },
  {
   "cell_type": "markdown",
   "id": "f114efb1",
   "metadata": {},
   "source": [
    "\n",
    "- NumPy arrays allow **fast element-wise operations**.  \n",
    "- **Broadcasting** simplifies operations between arrays of different shapes.  \n",
    "- NumPy provides many **mathematical functions** (`sqrt`, `log`, `sin`, etc.).  \n",
    "- Indexing and slicing work similar to Python lists but are more powerful.\n",
    "\n",
    "📌 With these tools, you can handle complex numerical computations easily!\n"
   ]
  }
 ],
 "metadata": {},
 "nbformat": 4,
 "nbformat_minor": 5
}
